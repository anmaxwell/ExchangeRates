{
 "cells": [
  {
   "cell_type": "code",
   "execution_count": 1,
   "id": "ed4600bf",
   "metadata": {},
   "outputs": [],
   "source": [
    "# Imports\n",
    "from newsapi import NewsApiClient"
   ]
  },
  {
   "cell_type": "code",
   "execution_count": 2,
   "id": "b852b967",
   "metadata": {},
   "outputs": [],
   "source": [
    "# Initialise \n",
    "newsapi = NewsApiClient(api_key='5a1d2319cf6b4e06bd29beb4651f66f9')"
   ]
  },
  {
   "cell_type": "code",
   "execution_count": 3,
   "id": "bea47d81",
   "metadata": {},
   "outputs": [],
   "source": [
    "# Get the top UK headlines for the day\n",
    "top_uk_headlines = newsapi.get_top_headlines(category=('business' or 'technology'),\n",
    "                                          language='en',\n",
    "                                          country='gb')"
   ]
  },
  {
   "cell_type": "code",
   "execution_count": 4,
   "id": "17b475dc",
   "metadata": {},
   "outputs": [
    {
     "data": {
      "text/plain": [
       "dict_keys(['status', 'totalResults', 'articles'])"
      ]
     },
     "execution_count": 4,
     "metadata": {},
     "output_type": "execute_result"
    }
   ],
   "source": [
    "top_uk_headlines.keys()"
   ]
  },
  {
   "cell_type": "code",
   "execution_count": null,
   "id": "871c4b6f",
   "metadata": {
    "scrolled": true
   },
   "outputs": [],
   "source": [
    "for key in top_uk_headlines.keys():\n",
    "    print(key, ':', top_uk_headlines[key])"
   ]
  },
  {
   "cell_type": "code",
   "execution_count": null,
   "id": "aab37a6d",
   "metadata": {},
   "outputs": [],
   "source": [
    "for item in top_uk_headlines['articles']:\n",
    "    print(item['title'])"
   ]
  },
  {
   "cell_type": "code",
   "execution_count": 8,
   "id": "afece5fe",
   "metadata": {},
   "outputs": [],
   "source": [
    "headlines = []\n",
    "for item in top_uk_headlines['articles']:\n",
    "    headlines.append(item['title'])"
   ]
  },
  {
   "cell_type": "code",
   "execution_count": 9,
   "id": "25761967",
   "metadata": {},
   "outputs": [
    {
     "data": {
      "text/plain": [
       "['WhatsApp down: Thousands of people report being unable to use messaging app - Sky News',\n",
       " 'Prices of staples such as pasta and tea soar in UK, hitting poorest hard - The Guardian',\n",
       " 'Amundi warns on hidden leverage in the financial system - Financial Times',\n",
       " \"O'Rourke site staff get new designer workwear - Construction Enquirer\",\n",
       " 'IKEA to open new location in Greater Manchester - Manchester Evening News',\n",
       " 'China shares slide in US as Xi starts historic third term - BBC',\n",
       " 'Whitbread warns of £60m increase in costs due to inflation - The Guardian',\n",
       " \"Sainsbury's is making a major change hitting 1.8million customers next week - The Sun\",\n",
       " 'HSBC announces leadership shake-up as profits beat forecasts - Financial Times',\n",
       " 'Cost of living: Almost half of adults finding it difficult to afford their bills - with numbers rising - Sky News',\n",
       " 'IEA The Current Energy Crisis Is Unprecedented - OilPrice.com',\n",
       " 'Exact times your home could be hit by blackouts this winter as ‘default plan’ revealed - In Your Area',\n",
       " 'Rushmere shopping centre sold for £56m to new investor - Belfast Telegraph',\n",
       " \"'We might not be here by Christmas': Legendary Netherton pub Ma Pardoes struggles in cost crisis - Express & Star\",\n",
       " \"Restaurants are the canaries in the UK economy's coal mine - The Telegraph\",\n",
       " 'Pension lawyers rewrite contracts to prevent another sell-off of gilts - Financial Times',\n",
       " 'Drunk man brandished meat cleaver at youngsters at retail park - Kent Online',\n",
       " 'Scots bank worker awarded £22k compo after boss asked her not to post cake pictures on Facebook - Daily Record',\n",
       " 'Competition regulator needs teeth to curb big tech, MPs say - BBC']"
      ]
     },
     "execution_count": 9,
     "metadata": {},
     "output_type": "execute_result"
    }
   ],
   "source": [
    "headlines"
   ]
  },
  {
   "cell_type": "code",
   "execution_count": null,
   "id": "a394a2cb",
   "metadata": {},
   "outputs": [],
   "source": []
  }
 ],
 "metadata": {
  "kernelspec": {
   "display_name": "Python 3 (ipykernel)",
   "language": "python",
   "name": "python3"
  },
  "language_info": {
   "codemirror_mode": {
    "name": "ipython",
    "version": 3
   },
   "file_extension": ".py",
   "mimetype": "text/x-python",
   "name": "python",
   "nbconvert_exporter": "python",
   "pygments_lexer": "ipython3",
   "version": "3.7.4"
  }
 },
 "nbformat": 4,
 "nbformat_minor": 5
}
