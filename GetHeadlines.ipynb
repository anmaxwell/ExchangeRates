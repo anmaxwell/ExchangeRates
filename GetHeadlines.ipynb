{
 "cells": [
  {
   "cell_type": "code",
   "execution_count": null,
   "id": "b9200225",
   "metadata": {},
   "outputs": [],
   "source": [
    "# Imports\n",
    "from newsapi import NewsApiClient"
   ]
  },
  {
   "cell_type": "code",
   "execution_count": null,
   "id": "48ad5734",
   "metadata": {},
   "outputs": [],
   "source": [
    "# Initialise \n",
    "newsapi = NewsApiClient(api_key='5a1d2319cf6b4e06bd29beb4651f66f9')"
   ]
  },
  {
   "cell_type": "code",
   "execution_count": null,
   "id": "0e8c0d3c",
   "metadata": {},
   "outputs": [],
   "source": [
    "# Get the top UK headlines for the day\n",
    "top_uk_headlines = newsapi.get_top_headlines(category='business',\n",
    "                                          language='en',\n",
    "                                          country='gb')"
   ]
  },
  {
   "cell_type": "code",
   "execution_count": null,
   "id": "1817cff6",
   "metadata": {},
   "outputs": [],
   "source": [
    "top_uk_headlines.keys()"
   ]
  },
  {
   "cell_type": "code",
   "execution_count": null,
   "id": "9fbbd2b8",
   "metadata": {},
   "outputs": [],
   "source": [
    "for key in top_uk_headlines.keys():\n",
    "    print(key, ':', top_uk_headlines[key])"
   ]
  },
  {
   "cell_type": "code",
   "execution_count": null,
   "id": "f22b401e",
   "metadata": {},
   "outputs": [],
   "source": []
  }
 ],
 "metadata": {
  "kernelspec": {
   "display_name": "Python 3 (ipykernel)",
   "language": "python",
   "name": "python3"
  },
  "language_info": {
   "codemirror_mode": {
    "name": "ipython",
    "version": 3
   },
   "file_extension": ".py",
   "mimetype": "text/x-python",
   "name": "python",
   "nbconvert_exporter": "python",
   "pygments_lexer": "ipython3",
   "version": "3.7.4"
  }
 },
 "nbformat": 4,
 "nbformat_minor": 5
}
