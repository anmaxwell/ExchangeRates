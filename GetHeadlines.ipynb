{
 "cells": [
  {
   "cell_type": "code",
   "execution_count": null,
   "id": "e87749d1",
   "metadata": {},
   "outputs": [],
   "source": [
    "# Imports\n",
    "from newsapi import NewsApiClient"
   ]
  },
  {
   "cell_type": "code",
   "execution_count": null,
   "id": "aa737f6e",
   "metadata": {},
   "outputs": [],
   "source": [
    "# Initialise \n",
    "newsapi = NewsApiClient(api_key='5a1d2319cf6b4e06bd29beb4651f66f9')"
   ]
  },
  {
   "cell_type": "code",
   "execution_count": null,
   "id": "479fd557",
   "metadata": {},
   "outputs": [],
   "source": [
    "# Get the top UK headlines for the day\n",
    "top_uk_headlines = newsapi.get_top_headlines(category=('business' or 'technology'),\n",
    "                                          language='en',\n",
    "                                          country='gb')"
   ]
  },
  {
   "cell_type": "code",
   "execution_count": null,
   "id": "ed59dd20",
   "metadata": {},
   "outputs": [],
   "source": [
    "top_uk_headlines.keys()"
   ]
  },
  {
   "cell_type": "code",
   "execution_count": null,
   "id": "43421be2",
   "metadata": {
    "scrolled": true
   },
   "outputs": [],
   "source": [
    "for key in top_uk_headlines.keys():\n",
    "    print(key, ':', top_uk_headlines[key])"
   ]
  },
  {
   "cell_type": "code",
   "execution_count": null,
   "id": "efec700d",
   "metadata": {},
   "outputs": [],
   "source": [
    "for item in top_uk_headlines['articles']:\n",
    "    print(item['title'])"
   ]
  },
  {
   "cell_type": "code",
   "execution_count": null,
   "id": "1ff1b016",
   "metadata": {},
   "outputs": [],
   "source": []
  }
 ],
 "metadata": {
  "kernelspec": {
   "display_name": "Python 3 (ipykernel)",
   "language": "python",
   "name": "python3"
  },
  "language_info": {
   "codemirror_mode": {
    "name": "ipython",
    "version": 3
   },
   "file_extension": ".py",
   "mimetype": "text/x-python",
   "name": "python",
   "nbconvert_exporter": "python",
   "pygments_lexer": "ipython3",
   "version": "3.7.4"
  }
 },
 "nbformat": 4,
 "nbformat_minor": 5
}
