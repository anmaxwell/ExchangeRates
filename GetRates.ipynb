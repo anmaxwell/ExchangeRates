{
 "cells": [
  {
   "cell_type": "code",
   "execution_count": null,
   "id": "11d833c0",
   "metadata": {},
   "outputs": [],
   "source": [
    "import json\n",
    "import requests\n",
    "\n",
    "url2 = 'https://api.apilayer.com/exchangerates_data/convert?to=GBP&from=JPY&amount=25'\n",
    "url = 'https://api.apilayer.com/exchangerates_data/timeseries?start_date=2022-10-01&end_date=2022-11-08&base=GBP&symbols=USD'\n",
    "url1 = 'https://api.apilayer.com/exchangerates_data/latest?base=GBP&symbols=USD'\n",
    "\n",
    "payload = {}\n",
    "headers= {\n",
    "  'apikey': 'iVhclvMkTD98sD5kpwCGrD75B5sxuAjK'\n",
    "}\n",
    "\n",
    "response = requests.request('GET', url, headers=headers, data = payload)\n",
    "\n",
    "status_code = response.status_code\n",
    "result = json.loads(response.text)"
   ]
  },
  {
   "cell_type": "code",
   "execution_count": null,
   "id": "7167c53d",
   "metadata": {},
   "outputs": [],
   "source": [
    "print(status_code, result)"
   ]
  }
 ],
 "metadata": {
  "kernelspec": {
   "display_name": "Python 3 (ipykernel)",
   "language": "python",
   "name": "python3"
  },
  "language_info": {
   "codemirror_mode": {
    "name": "ipython",
    "version": 3
   },
   "file_extension": ".py",
   "mimetype": "text/x-python",
   "name": "python",
   "nbconvert_exporter": "python",
   "pygments_lexer": "ipython3",
   "version": "3.7.4"
  },
  "vscode": {
   "interpreter": {
    "hash": "f8d5a352003746ee3eaf7c9aab3ed3ada848c83b6cddda70f5ce41c3322c8a40"
   }
  }
 },
 "nbformat": 4,
 "nbformat_minor": 5
}
