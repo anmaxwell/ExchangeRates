{
 "cells": [
  {
   "cell_type": "markdown",
   "id": "d47d75e1",
   "metadata": {},
   "source": [
    "Notebook to try to predict if the exchange rate will increase or decrease given the previous rates"
   ]
  },
  {
   "cell_type": "code",
   "execution_count": null,
   "id": "843fa62e",
   "metadata": {},
   "outputs": [],
   "source": [
    "# imports\n",
    "import json\n",
    "import numpy as np\n",
    "import pandas as pd\n",
    "import re\n",
    "import requests\n",
    "\n",
    "from sklearn.utils import shuffle\n",
    "from sklearn.model_selection import train_test_split"
   ]
  },
  {
   "cell_type": "code",
   "execution_count": null,
   "id": "c0820abf",
   "metadata": {},
   "outputs": [],
   "source": [
    "# Hide warnings due to new columns for rates\n",
    "pd.options.mode.chained_assignment = None"
   ]
  },
  {
   "cell_type": "code",
   "execution_count": null,
   "id": "00f41663",
   "metadata": {},
   "outputs": [],
   "source": [
    "# Get the rates from the API\n",
    "url = 'https://api.apilayer.com/exchangerates_data/timeseries?start_date=2022-01-09&end_date=2022-11-11&base=GBP&symbols=USD'\n",
    "\n",
    "payload = {}\n",
    "headers = {'apikey': 'iVhclvMkTD98sD5kpwCGrD75B5sxuAjK'}\n",
    "\n",
    "response = requests.request('GET', url, headers=headers, data = payload)\n",
    "status_code = response.status_code\n",
    "result = json.loads(response.text)\n",
    "exch_rates = result['rates']"
   ]
  },
  {
   "cell_type": "code",
   "execution_count": null,
   "id": "43a66500",
   "metadata": {},
   "outputs": [],
   "source": [
    "# Take the rates from the json\n",
    "rate_list = []\n",
    "for key, value  in exch_rates.items():\n",
    "    text_val = str(value)\n",
    "    rate_val = re.findall(\"\\d+\\.\\d+\", text_val)\n",
    "    rate = (key,float(rate_val[0]))\n",
    "    rate_list.append(rate)"
   ]
  },
  {
   "cell_type": "code",
   "execution_count": null,
   "id": "85311bc7",
   "metadata": {},
   "outputs": [],
   "source": [
    "# Create dataframe and replace change with -1 or 1 to show increase or decrease\n",
    "full_df = pd.DataFrame (rate_list, columns = ['date', 'rate'])\n",
    "full_df['change'] = full_df.rate.diff()\n",
    "full_df['change'] = [-1 if change < 0 else 1 for change in full_df['change']]"
   ]
  },
  {
   "cell_type": "code",
   "execution_count": null,
   "id": "0a7f45f2",
   "metadata": {},
   "outputs": [],
   "source": [
    "# Create columns to take rates from previous days\n",
    "full_df['day_1'] = full_df.change.shift(1)\n",
    "full_df['day_2'] = full_df.day_1.shift(1)\n",
    "full_df['day_3'] = full_df.day_2.shift(1)\n",
    "full_df['day_4'] = full_df.day_3.shift(1)\n",
    "full_df['day_5'] = full_df.day_4.shift(1)\n",
    "full_df['day_6'] = full_df.day_5.shift(1)"
   ]
  },
  {
   "cell_type": "code",
   "execution_count": null,
   "id": "6ab2b9b2",
   "metadata": {},
   "outputs": [],
   "source": [
    "# Create target and features\n",
    "y = full_df['change'].loc[6:].tolist()\n",
    "x = full_df.drop(['change', 'date', 'rate'],axis=1).loc[6:].values.tolist()"
   ]
  },
  {
   "cell_type": "code",
   "execution_count": null,
   "id": "e0ab1c02",
   "metadata": {},
   "outputs": [],
   "source": [
    "# Create the training and test sets\n",
    "X, Y = shuffle(x,y)\n",
    "x_train, x_test, y_train, y_test = train_test_split(X, Y, test_size=0.2)"
   ]
  },
  {
   "cell_type": "code",
   "execution_count": null,
   "id": "2874c2fa",
   "metadata": {},
   "outputs": [],
   "source": [
    "# Use SVM from library to create model\n",
    "from sklearn.svm import SVC\n",
    "from sklearn.metrics import accuracy_score\n",
    "\n",
    "# Use linear kernel as points clearly show linear separation\n",
    "clf = SVC(kernel='linear', random_state = 42)\n",
    "clf.fit(x_train,y_train)\n",
    "y_pred = clf.predict(x_test)\n",
    "print(accuracy_score(y_test,y_pred))"
   ]
  },
  {
   "cell_type": "code",
   "execution_count": null,
   "id": "cf572d92",
   "metadata": {},
   "outputs": [],
   "source": [
    "for i in range(len(y_pred)):\n",
    "    print('pred', y_pred[i], 'act' , y_test[i])"
   ]
  },
  {
   "cell_type": "code",
   "execution_count": null,
   "id": "3c559129",
   "metadata": {},
   "outputs": [],
   "source": []
  }
 ],
 "metadata": {
  "kernelspec": {
   "display_name": "Python 3 (ipykernel)",
   "language": "python",
   "name": "python3"
  },
  "language_info": {
   "codemirror_mode": {
    "name": "ipython",
    "version": 3
   },
   "file_extension": ".py",
   "mimetype": "text/x-python",
   "name": "python",
   "nbconvert_exporter": "python",
   "pygments_lexer": "ipython3",
   "version": "3.7.4"
  }
 },
 "nbformat": 4,
 "nbformat_minor": 5
}
