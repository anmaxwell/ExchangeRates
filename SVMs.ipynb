{
 "cells": [
  {
   "cell_type": "code",
   "execution_count": null,
   "id": "59898f8e",
   "metadata": {},
   "outputs": [],
   "source": [
    "# Imports\n",
    "import matplotlib.pyplot as plt\n",
    "%matplotlib inline\n",
    "import numpy as np\n",
    "import pandas as pd\n",
    "import seaborn as sns\n",
    "\n",
    "from sklearn.utils import shuffle\n",
    "from sklearn.model_selection import train_test_split"
   ]
  },
  {
   "cell_type": "code",
   "execution_count": null,
   "id": "65b09e2e",
   "metadata": {},
   "outputs": [],
   "source": [
    "# Read in Iris data from web\n",
    "iris_url = 'https://archive.ics.uci.edu/ml/machine-learning-databases/iris/iris.data'\n",
    "headers = ['Sepal_Length','Sepal_Width','Petal_Length','Petal_Width','Class']\n",
    "df =  pd.read_csv(iris_url, names = headers)"
   ]
  },
  {
   "cell_type": "code",
   "execution_count": null,
   "id": "64a2ec0f",
   "metadata": {},
   "outputs": [],
   "source": [
    "# Remove a Class to make it binary classification\n",
    "df.drop(df[df.Class == 'Iris-virginica'].index, inplace=True)"
   ]
  },
  {
   "cell_type": "code",
   "execution_count": null,
   "id": "3ff2a6a6",
   "metadata": {},
   "outputs": [],
   "source": [
    "df.tail()"
   ]
  },
  {
   "cell_type": "code",
   "execution_count": null,
   "id": "49d24d6e",
   "metadata": {},
   "outputs": [],
   "source": [
    "# Plot the data\n",
    "sns.scatterplot(data=df, x='Sepal_Length', y='Petal_Length', hue='Class')\n",
    "plt.title('Iris Data by Length')\n",
    "plt.xlabel('Sepal Length')\n",
    "plt.ylabel('Petal Length')\n",
    "plt.show()\n",
    "\n",
    "sns.scatterplot(data=df, x='Sepal_Width', y='Petal_Width', hue='Class')\n",
    "plt.title('Iris Data by Width')\n",
    "plt.xlabel('Sepal Width')\n",
    "plt.ylabel('Petal Width')\n",
    "plt.show()"
   ]
  },
  {
   "cell_type": "code",
   "execution_count": null,
   "id": "18d14a22",
   "metadata": {},
   "outputs": [],
   "source": [
    "# Create a target of the Class and swap the terms for 1 and -1\n",
    "df['Class'] = df['Class'].replace(to_replace=['Iris-setosa', 'Iris-versicolor'],\n",
    "           value=[1,-1])\n",
    "y = df['Class'].tolist()"
   ]
  },
  {
   "cell_type": "code",
   "execution_count": null,
   "id": "0c9c4ee8",
   "metadata": {},
   "outputs": [],
   "source": [
    "# Create a list of the features\n",
    "df = df.drop(['Class'],axis=1)\n",
    "x = df.values.tolist()"
   ]
  },
  {
   "cell_type": "code",
   "execution_count": null,
   "id": "625478fb",
   "metadata": {},
   "outputs": [],
   "source": [
    "# Shuffle and split the data into training and test set\n",
    "X, Y = shuffle(x,y)\n",
    "x_train = []\n",
    "y_train = []\n",
    "x_test = []\n",
    "y_test = []\n",
    "\n",
    "x_train, x_test, y_train, y_test = train_test_split(X, Y, train_size=0.8)\n",
    "\n",
    "x_train = np.array(x_train)\n",
    "y_train = np.array(y_train)\n",
    "x_test = np.array(x_test)\n",
    "y_test = np.array(y_test)\n",
    "\n"
   ]
  },
  {
   "cell_type": "code",
   "execution_count": null,
   "id": "fdb9a6f6",
   "metadata": {},
   "outputs": [],
   "source": [
    "y_train = y_train.reshape(90,1)\n",
    "y_test = y_test.reshape(10,1)"
   ]
  },
  {
   "cell_type": "code",
   "execution_count": null,
   "id": "7d763225",
   "metadata": {},
   "outputs": [],
   "source": []
  },
  {
   "cell_type": "code",
   "execution_count": null,
   "id": "7a73cd2e",
   "metadata": {},
   "outputs": [],
   "source": []
  }
 ],
 "metadata": {
  "kernelspec": {
   "display_name": "Python 3",
   "language": "python",
   "name": "python3"
  },
  "language_info": {
   "codemirror_mode": {
    "name": "ipython",
    "version": 3
   },
   "file_extension": ".py",
   "mimetype": "text/x-python",
   "name": "python",
   "nbconvert_exporter": "python",
   "pygments_lexer": "ipython3",
   "version": "3.7.4"
  }
 },
 "nbformat": 4,
 "nbformat_minor": 5
}
