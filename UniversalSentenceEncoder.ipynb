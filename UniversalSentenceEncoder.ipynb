{
 "cells": [
  {
   "cell_type": "code",
   "execution_count": null,
   "id": "familiar-vitamin",
   "metadata": {},
   "outputs": [],
   "source": [
    "import numpy as np\n",
    "import json\n",
    "import tensorflow as tf\n",
    "import tensorflow_hub as hub"
   ]
  },
  {
   "cell_type": "code",
   "execution_count": null,
   "id": "proved-storm",
   "metadata": {},
   "outputs": [],
   "source": [
    "#Loading pretrained model\n",
    "module_url = 'https://tfhub.dev/google/universal-sentence-encoder/4'\n",
    "model = hub.load(module_url)"
   ]
  },
  {
   "cell_type": "code",
   "execution_count": null,
   "id": "disturbed-evidence",
   "metadata": {},
   "outputs": [],
   "source": [
    "#function to create embedding vectors\n",
    "def embed(input):\n",
    "    return model(input)"
   ]
  },
  {
   "cell_type": "code",
   "execution_count": null,
   "id": "daily-profile",
   "metadata": {},
   "outputs": [],
   "source": [
    "text_to_convert = ['testing conversion', 'testing outputs for conversion']"
   ]
  },
  {
   "cell_type": "code",
   "execution_count": null,
   "id": "extreme-obligation",
   "metadata": {},
   "outputs": [],
   "source": [
    "output = []"
   ]
  },
  {
   "cell_type": "code",
   "execution_count": null,
   "id": "designed-regular",
   "metadata": {},
   "outputs": [],
   "source": [
    "for item in text_to_convert:\n",
    "    #create vectors from questions\n",
    "    vector_USE = embed([item])\n",
    "    output.append(np.array(vector_USE).tolist())"
   ]
  },
  {
   "cell_type": "code",
   "execution_count": null,
   "id": "sustainable-sigma",
   "metadata": {
    "scrolled": true
   },
   "outputs": [],
   "source": [
    "json.dumps(output)"
   ]
  },
  {
   "cell_type": "code",
   "execution_count": null,
   "id": "statistical-underground",
   "metadata": {},
   "outputs": [],
   "source": []
  }
 ],
 "metadata": {
  "kernelspec": {
   "display_name": "Python 3",
   "language": "python",
   "name": "python3"
  },
  "language_info": {
   "codemirror_mode": {
    "name": "ipython",
    "version": 3
   },
   "file_extension": ".py",
   "mimetype": "text/x-python",
   "name": "python",
   "nbconvert_exporter": "python",
   "pygments_lexer": "ipython3",
   "version": "3.9.1"
  }
 },
 "nbformat": 4,
 "nbformat_minor": 5
}
