{
 "cells": [
  {
   "cell_type": "code",
   "execution_count": null,
   "id": "familiar-vitamin",
   "metadata": {},
   "outputs": [],
   "source": [
    "import tensorflow as tf\n",
    "import tensorflow_hub as hub"
   ]
  },
  {
   "cell_type": "code",
   "execution_count": null,
   "id": "proved-storm",
   "metadata": {},
   "outputs": [],
   "source": [
    "#Loading pretrained model\n",
    "module_url = 'https://tfhub.dev/google/universal-sentence-encoder/4'\n",
    "model = hub.load(module_url)"
   ]
  },
  {
   "cell_type": "code",
   "execution_count": null,
   "id": "disturbed-evidence",
   "metadata": {},
   "outputs": [],
   "source": [
    "#function to create embedding vectors\n",
    "def embed(input):\n",
    "    return model(input)"
   ]
  },
  {
   "cell_type": "code",
   "execution_count": null,
   "id": "daily-profile",
   "metadata": {},
   "outputs": [],
   "source": [
    "text_to_convert = ['help']"
   ]
  },
  {
   "cell_type": "code",
   "execution_count": null,
   "id": "designed-regular",
   "metadata": {},
   "outputs": [],
   "source": [
    "#create vectors from questions\n",
    "vector_USE = embed(text_to_convert)"
   ]
  },
  {
   "cell_type": "code",
   "execution_count": null,
   "id": "thick-interest",
   "metadata": {},
   "outputs": [],
   "source": [
    "print('vector:', vector_USE, text_to_convert)"
   ]
  }
 ],
 "metadata": {
  "kernelspec": {
   "display_name": "Python 3",
   "language": "python",
   "name": "python3"
  },
  "language_info": {
   "codemirror_mode": {
    "name": "ipython",
    "version": 3
   },
   "file_extension": ".py",
   "mimetype": "text/x-python",
   "name": "python",
   "nbconvert_exporter": "python",
   "pygments_lexer": "ipython3",
   "version": "3.9.1"
  }
 },
 "nbformat": 4,
 "nbformat_minor": 5
}
